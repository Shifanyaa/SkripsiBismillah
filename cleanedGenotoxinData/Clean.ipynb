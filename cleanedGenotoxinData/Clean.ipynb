{
 "cells": [
  {
   "cell_type": "code",
   "execution_count": 2,
   "metadata": {},
   "outputs": [
    {
     "name": "stdout",
     "output_type": "stream",
     "text": [
      "Collecting pandas\n",
      "  Downloading pandas-2.2.3-cp310-cp310-win_amd64.whl (11.6 MB)\n",
      "     ---------------------------------------- 11.6/11.6 MB 4.0 MB/s eta 0:00:00\n",
      "Requirement already satisfied: python-dateutil>=2.8.2 in e:\\aplikasi\\lib\\site-packages (from pandas) (2.8.2)\n",
      "Collecting tzdata>=2022.7\n",
      "  Downloading tzdata-2024.2-py2.py3-none-any.whl (346 kB)\n",
      "     -------------------------------------- 346.6/346.6 kB 3.6 MB/s eta 0:00:00\n",
      "Collecting pytz>=2020.1\n",
      "  Downloading pytz-2024.2-py2.py3-none-any.whl (508 kB)\n",
      "     -------------------------------------- 508.0/508.0 kB 3.5 MB/s eta 0:00:00\n",
      "Requirement already satisfied: numpy>=1.22.4 in e:\\aplikasi\\lib\\site-packages (from pandas) (1.23.3)\n",
      "Requirement already satisfied: six>=1.5 in e:\\aplikasi\\lib\\site-packages (from python-dateutil>=2.8.2->pandas) (1.16.0)\n",
      "Installing collected packages: pytz, tzdata, pandas\n",
      "Successfully installed pandas-2.2.3 pytz-2024.2 tzdata-2024.2\n",
      "Note: you may need to restart the kernel to use updated packages.\n"
     ]
    },
    {
     "name": "stderr",
     "output_type": "stream",
     "text": [
      "\n",
      "[notice] A new release of pip available: 22.2.1 -> 24.2\n",
      "[notice] To update, run: python.exe -m pip install --upgrade pip\n"
     ]
    }
   ],
   "source": [
    "pip install pandas"
   ]
  },
  {
   "cell_type": "code",
   "execution_count": 4,
   "metadata": {},
   "outputs": [
    {
     "name": "stdout",
     "output_type": "stream",
     "text": [
      "Collecting seaborn\n",
      "  Downloading seaborn-0.13.2-py3-none-any.whl (294 kB)\n",
      "     -------------------------------------- 294.9/294.9 kB 3.6 MB/s eta 0:00:00\n",
      "Requirement already satisfied: matplotlib!=3.6.1,>=3.4 in e:\\aplikasi\\lib\\site-packages (from seaborn) (3.6.2)\n",
      "Requirement already satisfied: pandas>=1.2 in e:\\aplikasi\\lib\\site-packages (from seaborn) (2.2.3)\n",
      "Requirement already satisfied: numpy!=1.24.0,>=1.20 in e:\\aplikasi\\lib\\site-packages (from seaborn) (1.23.3)\n",
      "Requirement already satisfied: kiwisolver>=1.0.1 in e:\\aplikasi\\lib\\site-packages (from matplotlib!=3.6.1,>=3.4->seaborn) (1.4.4)\n",
      "Requirement already satisfied: packaging>=20.0 in e:\\aplikasi\\lib\\site-packages (from matplotlib!=3.6.1,>=3.4->seaborn) (21.3)\n",
      "Requirement already satisfied: cycler>=0.10 in e:\\aplikasi\\lib\\site-packages (from matplotlib!=3.6.1,>=3.4->seaborn) (0.11.0)\n",
      "Requirement already satisfied: python-dateutil>=2.7 in e:\\aplikasi\\lib\\site-packages (from matplotlib!=3.6.1,>=3.4->seaborn) (2.8.2)\n",
      "Requirement already satisfied: pyparsing>=2.2.1 in e:\\aplikasi\\lib\\site-packages (from matplotlib!=3.6.1,>=3.4->seaborn) (3.0.9)\n",
      "Requirement already satisfied: fonttools>=4.22.0 in e:\\aplikasi\\lib\\site-packages (from matplotlib!=3.6.1,>=3.4->seaborn) (4.38.0)\n",
      "Requirement already satisfied: pillow>=6.2.0 in e:\\aplikasi\\lib\\site-packages (from matplotlib!=3.6.1,>=3.4->seaborn) (9.3.0)\n",
      "Requirement already satisfied: contourpy>=1.0.1 in e:\\aplikasi\\lib\\site-packages (from matplotlib!=3.6.1,>=3.4->seaborn) (1.0.6)\n",
      "Requirement already satisfied: tzdata>=2022.7 in e:\\aplikasi\\lib\\site-packages (from pandas>=1.2->seaborn) (2024.2)\n",
      "Requirement already satisfied: pytz>=2020.1 in e:\\aplikasi\\lib\\site-packages (from pandas>=1.2->seaborn) (2024.2)\n",
      "Requirement already satisfied: six>=1.5 in e:\\aplikasi\\lib\\site-packages (from python-dateutil>=2.7->matplotlib!=3.6.1,>=3.4->seaborn) (1.16.0)\n",
      "Installing collected packages: seaborn\n",
      "Successfully installed seaborn-0.13.2\n",
      "Note: you may need to restart the kernel to use updated packages.\n"
     ]
    },
    {
     "name": "stderr",
     "output_type": "stream",
     "text": [
      "\n",
      "[notice] A new release of pip available: 22.2.1 -> 24.2\n",
      "[notice] To update, run: python.exe -m pip install --upgrade pip\n"
     ]
    }
   ],
   "source": [
    "pip install seaborn"
   ]
  },
  {
   "cell_type": "code",
   "execution_count": 5,
   "metadata": {},
   "outputs": [
    {
     "name": "stdout",
     "output_type": "stream",
     "text": [
      "Requirement already satisfied: matplotlib in e:\\aplikasi\\lib\\site-packages (3.6.2)\n",
      "Requirement already satisfied: fonttools>=4.22.0 in e:\\aplikasi\\lib\\site-packages (from matplotlib) (4.38.0)\n",
      "Requirement already satisfied: cycler>=0.10 in e:\\aplikasi\\lib\\site-packages (from matplotlib) (0.11.0)\n",
      "Requirement already satisfied: pyparsing>=2.2.1 in e:\\aplikasi\\lib\\site-packages (from matplotlib) (3.0.9)\n",
      "Requirement already satisfied: pillow>=6.2.0 in e:\\aplikasi\\lib\\site-packages (from matplotlib) (9.3.0)\n",
      "Requirement already satisfied: numpy>=1.19 in e:\\aplikasi\\lib\\site-packages (from matplotlib) (1.23.3)\n",
      "Requirement already satisfied: python-dateutil>=2.7 in e:\\aplikasi\\lib\\site-packages (from matplotlib) (2.8.2)\n",
      "Requirement already satisfied: packaging>=20.0 in e:\\aplikasi\\lib\\site-packages (from matplotlib) (21.3)\n",
      "Requirement already satisfied: contourpy>=1.0.1 in e:\\aplikasi\\lib\\site-packages (from matplotlib) (1.0.6)\n",
      "Requirement already satisfied: kiwisolver>=1.0.1 in e:\\aplikasi\\lib\\site-packages (from matplotlib) (1.4.4)\n",
      "Requirement already satisfied: six>=1.5 in e:\\aplikasi\\lib\\site-packages (from python-dateutil>=2.7->matplotlib) (1.16.0)\n",
      "Note: you may need to restart the kernel to use updated packages.\n"
     ]
    },
    {
     "name": "stderr",
     "output_type": "stream",
     "text": [
      "\n",
      "[notice] A new release of pip available: 22.2.1 -> 24.2\n",
      "[notice] To update, run: python.exe -m pip install --upgrade pip\n"
     ]
    }
   ],
   "source": [
    "pip install matplotlib"
   ]
  },
  {
   "cell_type": "code",
   "execution_count": 1,
   "metadata": {},
   "outputs": [],
   "source": [
    "import pandas as pd\n",
    "import seaborn as sns\n",
    "import matplotlib.pyplot as plt"
   ]
  },
  {
   "cell_type": "code",
   "execution_count": 7,
   "metadata": {},
   "outputs": [],
   "source": [
    "import chardet"
   ]
  },
  {
   "cell_type": "code",
   "execution_count": 16,
   "metadata": {},
   "outputs": [
    {
     "name": "stdout",
     "output_type": "stream",
     "text": [
      "Note: you may need to restart the kernel to use updated packages.\n"
     ]
    },
    {
     "name": "stderr",
     "output_type": "stream",
     "text": [
      "  WARNING: The script chardetect.exe is installed in 'e:\\aplikasi\\Scripts' which is not on PATH.\n",
      "  Consider adding this directory to PATH or, if you prefer to suppress this warning, use --no-warn-script-location.\n",
      "\n",
      "[notice] A new release of pip available: 22.2.1 -> 24.2\n",
      "[notice] To update, run: python.exe -m pip install --upgrade pip\n"
     ]
    },
    {
     "name": "stdout",
     "output_type": "stream",
     "text": [
      "Collecting chardet\n",
      "  Using cached chardet-5.2.0-py3-none-any.whl (199 kB)\n",
      "Installing collected packages: chardet\n",
      "Successfully installed chardet-5.2.0\n"
     ]
    }
   ],
   "source": [
    "pip install chardet\n"
   ]
  },
  {
   "cell_type": "code",
   "execution_count": 8,
   "metadata": {},
   "outputs": [
    {
     "name": "stdout",
     "output_type": "stream",
     "text": [
      "{'encoding': 'UTF-16', 'confidence': 1.0, 'language': ''}\n"
     ]
    }
   ],
   "source": [
    "# Baca file secara byte\n",
    "with open('Data.csv', 'rb') as rawdata:\n",
    "    result = chardet.detect(rawdata.read(100000))\n",
    "print(result)"
   ]
  },
  {
   "cell_type": "code",
   "execution_count": 9,
   "metadata": {},
   "outputs": [],
   "source": [
    "df = pd.read_csv('Data.csv', encoding='UTF-16')"
   ]
  },
  {
   "cell_type": "code",
   "execution_count": 10,
   "metadata": {},
   "outputs": [
    {
     "data": {
      "text/html": [
       "<div>\n",
       "<style scoped>\n",
       "    .dataframe tbody tr th:only-of-type {\n",
       "        vertical-align: middle;\n",
       "    }\n",
       "\n",
       "    .dataframe tbody tr th {\n",
       "        vertical-align: top;\n",
       "    }\n",
       "\n",
       "    .dataframe thead th {\n",
       "        text-align: right;\n",
       "    }\n",
       "</style>\n",
       "<table border=\"1\" class=\"dataframe\">\n",
       "  <thead>\n",
       "    <tr style=\"text-align: right;\">\n",
       "      <th></th>\n",
       "      <th>Substance</th>\n",
       "      <th>Author</th>\n",
       "      <th>Year</th>\n",
       "      <th>Output Id</th>\n",
       "      <th>Genotoxicity</th>\n",
       "    </tr>\n",
       "  </thead>\n",
       "  <tbody>\n",
       "    <tr>\n",
       "      <th>0</th>\n",
       "      <td>(-)-17-Oxosparteine</td>\n",
       "      <td>EFSA CONTAM</td>\n",
       "      <td>2019</td>\n",
       "      <td>3321</td>\n",
       "      <td>Negative</td>\n",
       "    </tr>\n",
       "    <tr>\n",
       "      <th>1</th>\n",
       "      <td>(-)-3,7-Dimethyl-6-octen-1-ol</td>\n",
       "      <td>EFSA CEF</td>\n",
       "      <td>2013</td>\n",
       "      <td>2180</td>\n",
       "      <td>Negative</td>\n",
       "    </tr>\n",
       "    <tr>\n",
       "      <th>2</th>\n",
       "      <td>(-)-3,7-Dimethyl-6-octen-1-ol</td>\n",
       "      <td>EFSA FEEDAP</td>\n",
       "      <td>2016</td>\n",
       "      <td>2864</td>\n",
       "      <td>Not determined</td>\n",
       "    </tr>\n",
       "    <tr>\n",
       "      <th>3</th>\n",
       "      <td>(-)-Alpha-cedrene</td>\n",
       "      <td>EFSA AFC</td>\n",
       "      <td>2008</td>\n",
       "      <td>2299</td>\n",
       "      <td>Not determined</td>\n",
       "    </tr>\n",
       "    <tr>\n",
       "      <th>4</th>\n",
       "      <td>(-)-Alpha-cedrene</td>\n",
       "      <td>EFSA CEF</td>\n",
       "      <td>2010</td>\n",
       "      <td>2039</td>\n",
       "      <td>Not determined</td>\n",
       "    </tr>\n",
       "    <tr>\n",
       "      <th>...</th>\n",
       "      <td>...</td>\n",
       "      <td>...</td>\n",
       "      <td>...</td>\n",
       "      <td>...</td>\n",
       "      <td>...</td>\n",
       "    </tr>\n",
       "    <tr>\n",
       "      <th>10822</th>\n",
       "      <td>Zinc sulphate monohydrate</td>\n",
       "      <td>EFSA FEEDAP</td>\n",
       "      <td>2012</td>\n",
       "      <td>198</td>\n",
       "      <td>Negative</td>\n",
       "    </tr>\n",
       "    <tr>\n",
       "      <th>10823</th>\n",
       "      <td>Zinc sulphate monohydrate</td>\n",
       "      <td>EFSA FEEDAP</td>\n",
       "      <td>2012</td>\n",
       "      <td>188</td>\n",
       "      <td>No data</td>\n",
       "    </tr>\n",
       "    <tr>\n",
       "      <th>10824</th>\n",
       "      <td>Zinc sulphate monohydrate</td>\n",
       "      <td>EFSA FEEDAP</td>\n",
       "      <td>2015</td>\n",
       "      <td>2632</td>\n",
       "      <td>Negative</td>\n",
       "    </tr>\n",
       "    <tr>\n",
       "      <th>10825</th>\n",
       "      <td>Zoxamide</td>\n",
       "      <td>EFSA</td>\n",
       "      <td>2017</td>\n",
       "      <td>2994</td>\n",
       "      <td>Other</td>\n",
       "    </tr>\n",
       "    <tr>\n",
       "      <th>10826</th>\n",
       "      <td>Zoxamide metabolite (RH-141455)</td>\n",
       "      <td>EFSA</td>\n",
       "      <td>2017</td>\n",
       "      <td>2994</td>\n",
       "      <td>Negative</td>\n",
       "    </tr>\n",
       "  </tbody>\n",
       "</table>\n",
       "<p>10827 rows × 5 columns</p>\n",
       "</div>"
      ],
      "text/plain": [
       "                             Substance       Author  Year  Output Id  \\\n",
       "0                  (-)-17-Oxosparteine  EFSA CONTAM  2019       3321   \n",
       "1        (-)-3,7-Dimethyl-6-octen-1-ol     EFSA CEF  2013       2180   \n",
       "2        (-)-3,7-Dimethyl-6-octen-1-ol  EFSA FEEDAP  2016       2864   \n",
       "3                    (-)-Alpha-cedrene     EFSA AFC  2008       2299   \n",
       "4                    (-)-Alpha-cedrene     EFSA CEF  2010       2039   \n",
       "...                                ...          ...   ...        ...   \n",
       "10822        Zinc sulphate monohydrate  EFSA FEEDAP  2012        198   \n",
       "10823        Zinc sulphate monohydrate  EFSA FEEDAP  2012        188   \n",
       "10824        Zinc sulphate monohydrate  EFSA FEEDAP  2015       2632   \n",
       "10825                         Zoxamide         EFSA  2017       2994   \n",
       "10826  Zoxamide metabolite (RH-141455)         EFSA  2017       2994   \n",
       "\n",
       "         Genotoxicity  \n",
       "0            Negative  \n",
       "1            Negative  \n",
       "2      Not determined  \n",
       "3      Not determined  \n",
       "4      Not determined  \n",
       "...               ...  \n",
       "10822        Negative  \n",
       "10823         No data  \n",
       "10824        Negative  \n",
       "10825           Other  \n",
       "10826        Negative  \n",
       "\n",
       "[10827 rows x 5 columns]"
      ]
     },
     "execution_count": 10,
     "metadata": {},
     "output_type": "execute_result"
    }
   ],
   "source": [
    "df"
   ]
  },
  {
   "cell_type": "code",
   "execution_count": 11,
   "metadata": {},
   "outputs": [
    {
     "data": {
      "text/html": [
       "<div>\n",
       "<style scoped>\n",
       "    .dataframe tbody tr th:only-of-type {\n",
       "        vertical-align: middle;\n",
       "    }\n",
       "\n",
       "    .dataframe tbody tr th {\n",
       "        vertical-align: top;\n",
       "    }\n",
       "\n",
       "    .dataframe thead th {\n",
       "        text-align: right;\n",
       "    }\n",
       "</style>\n",
       "<table border=\"1\" class=\"dataframe\">\n",
       "  <thead>\n",
       "    <tr style=\"text-align: right;\">\n",
       "      <th></th>\n",
       "      <th>Substance</th>\n",
       "      <th>Author</th>\n",
       "      <th>Year</th>\n",
       "      <th>Output Id</th>\n",
       "      <th>Genotoxicity</th>\n",
       "    </tr>\n",
       "  </thead>\n",
       "  <tbody>\n",
       "  </tbody>\n",
       "</table>\n",
       "</div>"
      ],
      "text/plain": [
       "Empty DataFrame\n",
       "Columns: [Substance, Author, Year, Output Id, Genotoxicity]\n",
       "Index: []"
      ]
     },
     "execution_count": 11,
     "metadata": {},
     "output_type": "execute_result"
    }
   ],
   "source": [
    "#Missing value \n",
    "nan_data = df[df.isna().any(axis=1)]\n",
    "nan_data "
   ]
  },
  {
   "cell_type": "code",
   "execution_count": 20,
   "metadata": {},
   "outputs": [
    {
     "data": {
      "image/png": "[encoded data removed]",
      "text/plain": [
       "<Figure size 1500x800 with 4 Axes>"
      ]
     },
     "metadata": {},
     "output_type": "display_data"
    }
   ],
   "source": [
    "#visualization\n",
    "fig,axes = plt.subplots(2,2,figsize=(15,8))\n",
    "\n",
    "sns.histplot(data=df, x=\"Year\", ax=axes[0,0], color=\"skyblue\")  \n",
    "sns.histplot(data=df, x=\"Genotoxicity\", ax=axes[0,1], color=\"skyblue\")\n",
    "plt.show()                     "
   ]
  },
  {
   "cell_type": "code",
   "execution_count": 21,
   "metadata": {},
   "outputs": [],
   "source": [
    "df_sorted = df.sort_values(by='Genotoxicity')"
   ]
  },
  {
   "cell_type": "code",
   "execution_count": 22,
   "metadata": {},
   "outputs": [
    {
     "data": {
      "text/html": [
       "<div>\n",
       "<style scoped>\n",
       "    .dataframe tbody tr th:only-of-type {\n",
       "        vertical-align: middle;\n",
       "    }\n",
       "\n",
       "    .dataframe tbody tr th {\n",
       "        vertical-align: top;\n",
       "    }\n",
       "\n",
       "    .dataframe thead th {\n",
       "        text-align: right;\n",
       "    }\n",
       "</style>\n",
       "<table border=\"1\" class=\"dataframe\">\n",
       "  <thead>\n",
       "    <tr style=\"text-align: right;\">\n",
       "      <th></th>\n",
       "      <th>Substance</th>\n",
       "      <th>Author</th>\n",
       "      <th>Year</th>\n",
       "      <th>Output Id</th>\n",
       "      <th>Genotoxicity</th>\n",
       "    </tr>\n",
       "  </thead>\n",
       "  <tbody>\n",
       "    <tr>\n",
       "      <th>3747</th>\n",
       "      <td>Allyl cyclohexanevalerate</td>\n",
       "      <td>EFSA CEF</td>\n",
       "      <td>2014</td>\n",
       "      <td>2498</td>\n",
       "      <td>Ambiguous</td>\n",
       "    </tr>\n",
       "    <tr>\n",
       "      <th>4796</th>\n",
       "      <td>Chromium nitrate</td>\n",
       "      <td>EFSA ANS</td>\n",
       "      <td>2009</td>\n",
       "      <td>518</td>\n",
       "      <td>Ambiguous</td>\n",
       "    </tr>\n",
       "    <tr>\n",
       "      <th>4799</th>\n",
       "      <td>Chromium(III)</td>\n",
       "      <td>EFSA ANS</td>\n",
       "      <td>2008</td>\n",
       "      <td>562</td>\n",
       "      <td>Ambiguous</td>\n",
       "    </tr>\n",
       "    <tr>\n",
       "      <th>4800</th>\n",
       "      <td>Chromium(III)</td>\n",
       "      <td>EFSA ANS</td>\n",
       "      <td>2009</td>\n",
       "      <td>518</td>\n",
       "      <td>Ambiguous</td>\n",
       "    </tr>\n",
       "    <tr>\n",
       "      <th>4801</th>\n",
       "      <td>Chromium(III)</td>\n",
       "      <td>EFSA ANS</td>\n",
       "      <td>2009</td>\n",
       "      <td>519</td>\n",
       "      <td>Ambiguous</td>\n",
       "    </tr>\n",
       "    <tr>\n",
       "      <th>...</th>\n",
       "      <td>...</td>\n",
       "      <td>...</td>\n",
       "      <td>...</td>\n",
       "      <td>...</td>\n",
       "      <td>...</td>\n",
       "    </tr>\n",
       "    <tr>\n",
       "      <th>3996</th>\n",
       "      <td>Arsenic, inorganic derivates</td>\n",
       "      <td>EFSA CONTAM</td>\n",
       "      <td>2005</td>\n",
       "      <td>42</td>\n",
       "      <td>Positive</td>\n",
       "    </tr>\n",
       "    <tr>\n",
       "      <th>4793</th>\n",
       "      <td>Chromium (VI)</td>\n",
       "      <td>EFSA CONTAM</td>\n",
       "      <td>2014</td>\n",
       "      <td>2468</td>\n",
       "      <td>Positive</td>\n",
       "    </tr>\n",
       "    <tr>\n",
       "      <th>4900</th>\n",
       "      <td>Citrinin</td>\n",
       "      <td>EFSA CONTAM</td>\n",
       "      <td>2012</td>\n",
       "      <td>588</td>\n",
       "      <td>Positive</td>\n",
       "    </tr>\n",
       "    <tr>\n",
       "      <th>3899</th>\n",
       "      <td>alpha-Zearalenol glucopyranosides and sulfates</td>\n",
       "      <td>EFSA CONTAM</td>\n",
       "      <td>2016</td>\n",
       "      <td>2801</td>\n",
       "      <td>Positive</td>\n",
       "    </tr>\n",
       "    <tr>\n",
       "      <th>4958</th>\n",
       "      <td>Cobalt acetate tetrahydrate</td>\n",
       "      <td>EFSA FEEDAP</td>\n",
       "      <td>2012</td>\n",
       "      <td>612</td>\n",
       "      <td>Positive</td>\n",
       "    </tr>\n",
       "  </tbody>\n",
       "</table>\n",
       "<p>10827 rows × 5 columns</p>\n",
       "</div>"
      ],
      "text/plain": [
       "                                           Substance       Author  Year  \\\n",
       "3747                       Allyl cyclohexanevalerate     EFSA CEF  2014   \n",
       "4796                                Chromium nitrate     EFSA ANS  2009   \n",
       "4799                                   Chromium(III)     EFSA ANS  2008   \n",
       "4800                                   Chromium(III)     EFSA ANS  2009   \n",
       "4801                                   Chromium(III)     EFSA ANS  2009   \n",
       "...                                              ...          ...   ...   \n",
       "3996                    Arsenic, inorganic derivates  EFSA CONTAM  2005   \n",
       "4793                                   Chromium (VI)  EFSA CONTAM  2014   \n",
       "4900                                        Citrinin  EFSA CONTAM  2012   \n",
       "3899  alpha-Zearalenol glucopyranosides and sulfates  EFSA CONTAM  2016   \n",
       "4958                     Cobalt acetate tetrahydrate  EFSA FEEDAP  2012   \n",
       "\n",
       "      Output Id Genotoxicity  \n",
       "3747       2498    Ambiguous  \n",
       "4796        518    Ambiguous  \n",
       "4799        562    Ambiguous  \n",
       "4800        518    Ambiguous  \n",
       "4801        519    Ambiguous  \n",
       "...         ...          ...  \n",
       "3996         42     Positive  \n",
       "4793       2468     Positive  \n",
       "4900        588     Positive  \n",
       "3899       2801     Positive  \n",
       "4958        612     Positive  \n",
       "\n",
       "[10827 rows x 5 columns]"
      ]
     },
     "execution_count": 22,
     "metadata": {},
     "output_type": "execute_result"
    }
   ],
   "source": [
    "df_sorted"
   ]
  },
  {
   "cell_type": "code",
   "execution_count": 29,
   "metadata": {},
   "outputs": [
    {
     "data": {
      "image/png": "[encoded data removed]",
      "text/plain": [
       "<Figure size 700x700 with 1 Axes>"
      ]
     },
     "metadata": {},
     "output_type": "display_data"
    }
   ],
   "source": [
    "# Menghitung frekuensi setiap kategori pada kolom 'Genotoxicity'\n",
    "genotox_count = df['Genotoxicity'].value_counts()\n",
    "\n",
    "# Membuat Pie Chart\n",
    "plt.figure(figsize=(7, 7))  # Mengatur ukuran plot agar proporsional\n",
    "plt.pie(genotox_count, labels=genotox_count.index, autopct='%1.1f%%', startangle=90)\n",
    "\n",
    "# Menambahkan judul\n",
    "plt.title('Distribusi Genotoxicity')\n",
    "\n",
    "# Menampilkan pie chart\n",
    "plt.show()"
   ]
  },
  {
   "cell_type": "code",
   "execution_count": 31,
   "metadata": {},
   "outputs": [
    {
     "name": "stdout",
     "output_type": "stream",
     "text": [
      "['Negative' 'Not determined' 'No data' 'Ambiguous' 'Positive' 'Other'\n",
      " 'Not applicable']\n",
      "Genotoxicity\n",
      "Negative          4719\n",
      "Not determined    3125\n",
      "No data           2012\n",
      "Ambiguous          637\n",
      "Positive           229\n",
      "Not applicable      55\n",
      "Other               50\n",
      "Name: count, dtype: int64\n"
     ]
    }
   ],
   "source": [
    "# Menampilkan kategori unik di kolom 'Genotoxicity'\n",
    "unique_categories = df['Genotoxicity'].unique()\n",
    "print(unique_categories)\n",
    "# Menghitung frekuensi setiap kategori di kolom 'Genotoxicity'\n",
    "category_counts = df['Genotoxicity'].value_counts()\n",
    "print(category_counts)"
   ]
  },
  {
   "cell_type": "code",
   "execution_count": null,
   "metadata": {},
   "outputs": [],
   "source": [
    "sns.relplot(\n",
    "    data=tips,\n",
    "    x=\"Year\", y=\"Genotoxicity\", hue=\"Genotoxicity\", style=\"time\",\n",
    ")"
   ]
  }
 ],
 "metadata": {
  "kernelspec": {
   "display_name": "Python 3",
   "language": "python",
   "name": "python3"
  },
  "language_info": {
   "codemirror_mode": {
    "name": "ipython",
    "version": 3
   },
   "file_extension": ".py",
   "mimetype": "text/x-python",
   "name": "python",
   "nbconvert_exporter": "python",
   "pygments_lexer": "ipython3",
   "version": "3.12.4"
  }
 },
 "nbformat": 4,
 "nbformat_minor": 2
}
